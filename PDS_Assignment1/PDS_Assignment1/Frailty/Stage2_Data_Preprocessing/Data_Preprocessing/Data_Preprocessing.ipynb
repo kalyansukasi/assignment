{
  "nbformat": 4,
  "nbformat_minor": 0,
  "metadata": {
    "colab": {
      "provenance": []
    },
    "kernelspec": {
      "name": "python3",
      "display_name": "Python 3"
    },
    "language_info": {
      "name": "python"
    }
  },
  "cells": [
    {
      "cell_type": "code",
      "execution_count": 8,
      "metadata": {
        "id": "854EfNTe6lPK"
      },
      "outputs": [],
      "source": [
        "#importing libraries\n",
        "import pandas as pd"
      ]
    },
    {
      "cell_type": "code",
      "source": [
        "#reading the raw_data\n",
        "raw_data = pd.read_csv(\"/content/raw_data.csv\")"
      ],
      "metadata": {
        "id": "H2F7WxZj603j"
      },
      "execution_count": 9,
      "outputs": []
    },
    {
      "cell_type": "code",
      "source": [
        "#Cleaning the data\n",
        "cleaned_data = raw_data.isnull()"
      ],
      "metadata": {
        "id": "Yqy959vs7dgd"
      },
      "execution_count": 10,
      "outputs": []
    },
    {
      "cell_type": "code",
      "source": [
        "#convert grip strength from kilograms to pounds\n",
        "cleaned_data['grip_strength_kilograms'] = cleaned_data['Grip strength'] * 2.20462"
      ],
      "metadata": {
        "id": "h4NvPe6r8Dsf"
      },
      "execution_count": 13,
      "outputs": []
    },
    {
      "cell_type": "code",
      "source": [
        "cleaned_data.to_csv(\"cleaned_data.csv\", index=False)"
      ],
      "metadata": {
        "id": "xVcEjznE9-mg"
      },
      "execution_count": 14,
      "outputs": []
    }
  ]
}