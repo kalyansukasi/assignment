{
  "nbformat": 4,
  "nbformat_minor": 0,
  "metadata": {
    "colab": {
      "provenance": []
    },
    "kernelspec": {
      "name": "python3",
      "display_name": "Python 3"
    },
    "language_info": {
      "name": "python"
    }
  },
  "cells": [
    {
      "cell_type": "code",
      "execution_count": 56,
      "metadata": {
        "id": "wcpIqbn_P3pv"
      },
      "outputs": [],
      "source": [
        "#importing the libraries\n",
        "import pandas as pd"
      ]
    },
    {
      "cell_type": "code",
      "source": [
        "#Loading the raw data\n",
        "raw_data = pd.read_csv(\"/content/raw_student_data.csv\")"
      ],
      "metadata": {
        "id": "gyodLPz1R-D1"
      },
      "execution_count": 57,
      "outputs": []
    },
    {
      "cell_type": "code",
      "source": [
        "#Removing duplicates\n",
        "cleaned_data = raw_data.dropna()"
      ],
      "metadata": {
        "id": "i0IlR21eSNBy"
      },
      "execution_count": 58,
      "outputs": []
    },
    {
      "cell_type": "code",
      "source": [
        "#Removing race/ethinicity of each student\n",
        "cleaned_data = cleaned_data.drop(['race/ethnicity'], axis=1)"
      ],
      "metadata": {
        "id": "R1d7RL-gTiRp"
      },
      "execution_count": 59,
      "outputs": []
    },
    {
      "cell_type": "code",
      "source": [
        "#Save the cleaned data\n",
        "cleaned_data.to_csv(\"cleaned_data.csv\", index=False)"
      ],
      "metadata": {
        "id": "Fm-MJVEeVv8V"
      },
      "execution_count": 60,
      "outputs": []
    }
  ]
}